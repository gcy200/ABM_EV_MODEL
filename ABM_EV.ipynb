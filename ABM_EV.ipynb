{
 "cells": [
  {
   "cell_type": "code",
   "execution_count": 7,
   "metadata": {},
   "outputs": [
    {
     "name": "stdout",
     "output_type": "stream",
     "text": [
      "(1, 6)\n",
      "(3, 0)\n",
      "(7, 6)\n",
      "(5, 5)\n",
      "(0, 6)\n",
      "(8, 0)\n",
      "(5, 6)\n",
      "(5, 3)\n",
      "(9, 0)\n",
      "(2, 3)\n",
      "(5, 7)\n",
      "(2, 4)\n",
      "(6, 7)\n",
      "(1, 7)\n",
      "(9, 7)\n",
      "(3, 3)\n",
      "(7, 2)\n",
      "(0, 5)\n",
      "(2, 5)\n",
      "(2, 1)\n",
      "(5, 9)\n",
      "(8, 5)\n",
      "(8, 1)\n",
      "(7, 7)\n",
      "(4, 6)\n",
      "(3, 6)\n",
      "(1, 3)\n",
      "(5, 4)\n",
      "(4, 4)\n",
      "(7, 4)\n",
      "(5, 0)\n",
      "(8, 9)\n",
      "(1, 4)\n",
      "(8, 4)\n",
      "(3, 1)\n",
      "(9, 8)\n",
      "(9, 2)\n",
      "(5, 2)\n",
      "(8, 2)\n",
      "(1, 1)\n",
      "(7, 5)\n",
      "(6, 8)\n",
      "(6, 0)\n",
      "(8, 8)\n",
      "(8, 3)\n",
      "(4, 7)\n",
      "(3, 4)\n",
      "(2, 7)\n",
      "(4, 9)\n",
      "(0, 4)\n"
     ]
    },
    {
     "ename": "ZeroDivisionError",
     "evalue": "division by zero",
     "output_type": "error",
     "traceback": [
      "\u001b[0;31m---------------------------------------------------------------------------\u001b[0m",
      "\u001b[0;31mZeroDivisionError\u001b[0m                         Traceback (most recent call last)",
      "\u001b[0;32m<ipython-input-7-d7a5cdb35faa>\u001b[0m in \u001b[0;36m<module>\u001b[0;34m()\u001b[0m\n\u001b[1;32m     81\u001b[0m \u001b[0mmodel\u001b[0m \u001b[0;34m=\u001b[0m \u001b[0mMoneyModel\u001b[0m\u001b[0;34m(\u001b[0m\u001b[0;36m50\u001b[0m\u001b[0;34m,\u001b[0m \u001b[0;36m10\u001b[0m\u001b[0;34m,\u001b[0m \u001b[0;36m10\u001b[0m\u001b[0;34m)\u001b[0m\u001b[0;34m\u001b[0m\u001b[0m\n\u001b[1;32m     82\u001b[0m \u001b[0;32mfor\u001b[0m \u001b[0mi\u001b[0m \u001b[0;32min\u001b[0m \u001b[0mrange\u001b[0m\u001b[0;34m(\u001b[0m\u001b[0;36m100\u001b[0m\u001b[0;34m)\u001b[0m\u001b[0;34m:\u001b[0m\u001b[0;34m\u001b[0m\u001b[0m\n\u001b[0;32m---> 83\u001b[0;31m     \u001b[0mmodel\u001b[0m\u001b[0;34m.\u001b[0m\u001b[0mstep\u001b[0m\u001b[0;34m(\u001b[0m\u001b[0;34m)\u001b[0m\u001b[0;34m\u001b[0m\u001b[0m\n\u001b[0m\u001b[1;32m     84\u001b[0m \u001b[0;34m\u001b[0m\u001b[0m\n\u001b[1;32m     85\u001b[0m \u001b[0;31m#     # Store the results\u001b[0m\u001b[0;34m\u001b[0m\u001b[0;34m\u001b[0m\u001b[0m\n",
      "\u001b[0;32m<ipython-input-7-d7a5cdb35faa>\u001b[0m in \u001b[0;36mstep\u001b[0;34m(self)\u001b[0m\n\u001b[1;32m     72\u001b[0m     \u001b[0;32mdef\u001b[0m \u001b[0mstep\u001b[0m \u001b[0;34m(\u001b[0m\u001b[0mself\u001b[0m\u001b[0;34m)\u001b[0m\u001b[0;34m:\u001b[0m\u001b[0;34m\u001b[0m\u001b[0m\n\u001b[1;32m     73\u001b[0m         \u001b[0;34m\"\"\"Advance the model by one step.\"\"\"\u001b[0m\u001b[0;34m\u001b[0m\u001b[0m\n\u001b[0;32m---> 74\u001b[0;31m         \u001b[0mself\u001b[0m\u001b[0;34m.\u001b[0m\u001b[0mdatacollector\u001b[0m\u001b[0;34m.\u001b[0m\u001b[0mcollect\u001b[0m\u001b[0;34m(\u001b[0m\u001b[0mself\u001b[0m\u001b[0;34m)\u001b[0m\u001b[0;34m\u001b[0m\u001b[0m\n\u001b[0m\u001b[1;32m     75\u001b[0m         \u001b[0mself\u001b[0m\u001b[0;34m.\u001b[0m\u001b[0mschedule\u001b[0m\u001b[0;34m.\u001b[0m\u001b[0mstep\u001b[0m\u001b[0;34m(\u001b[0m\u001b[0;34m)\u001b[0m\u001b[0;34m\u001b[0m\u001b[0m\n\u001b[1;32m     76\u001b[0m \u001b[0;34m\u001b[0m\u001b[0m\n",
      "\u001b[0;32m/Users/jerome/anaconda/lib/python3.6/site-packages/mesa/datacollection.py\u001b[0m in \u001b[0;36mcollect\u001b[0;34m(self, model)\u001b[0m\n\u001b[1;32m    129\u001b[0m         \u001b[0;32mif\u001b[0m \u001b[0mself\u001b[0m\u001b[0;34m.\u001b[0m\u001b[0mmodel_reporters\u001b[0m\u001b[0;34m:\u001b[0m\u001b[0;34m\u001b[0m\u001b[0m\n\u001b[1;32m    130\u001b[0m             \u001b[0;32mfor\u001b[0m \u001b[0mvar\u001b[0m\u001b[0;34m,\u001b[0m \u001b[0mreporter\u001b[0m \u001b[0;32min\u001b[0m \u001b[0mself\u001b[0m\u001b[0;34m.\u001b[0m\u001b[0mmodel_reporters\u001b[0m\u001b[0;34m.\u001b[0m\u001b[0mitems\u001b[0m\u001b[0;34m(\u001b[0m\u001b[0;34m)\u001b[0m\u001b[0;34m:\u001b[0m\u001b[0;34m\u001b[0m\u001b[0m\n\u001b[0;32m--> 131\u001b[0;31m                 \u001b[0mself\u001b[0m\u001b[0;34m.\u001b[0m\u001b[0mmodel_vars\u001b[0m\u001b[0;34m[\u001b[0m\u001b[0mvar\u001b[0m\u001b[0;34m]\u001b[0m\u001b[0;34m.\u001b[0m\u001b[0mappend\u001b[0m\u001b[0;34m(\u001b[0m\u001b[0mreporter\u001b[0m\u001b[0;34m(\u001b[0m\u001b[0mmodel\u001b[0m\u001b[0;34m)\u001b[0m\u001b[0;34m)\u001b[0m\u001b[0;34m\u001b[0m\u001b[0m\n\u001b[0m\u001b[1;32m    132\u001b[0m \u001b[0;34m\u001b[0m\u001b[0m\n\u001b[1;32m    133\u001b[0m         \u001b[0;32mif\u001b[0m \u001b[0mself\u001b[0m\u001b[0;34m.\u001b[0m\u001b[0magent_reporters\u001b[0m\u001b[0;34m:\u001b[0m\u001b[0;34m\u001b[0m\u001b[0m\n",
      "\u001b[0;32m<ipython-input-7-d7a5cdb35faa>\u001b[0m in \u001b[0;36mcompute_gini\u001b[0;34m(model)\u001b[0m\n\u001b[1;32m     36\u001b[0m     \u001b[0mx\u001b[0m \u001b[0;34m=\u001b[0m \u001b[0msorted\u001b[0m\u001b[0;34m(\u001b[0m\u001b[0magent_wealths\u001b[0m\u001b[0;34m)\u001b[0m\u001b[0;34m\u001b[0m\u001b[0m\n\u001b[1;32m     37\u001b[0m     \u001b[0mN\u001b[0m \u001b[0;34m=\u001b[0m \u001b[0mmodel\u001b[0m\u001b[0;34m.\u001b[0m\u001b[0mnum_agents\u001b[0m\u001b[0;34m\u001b[0m\u001b[0m\n\u001b[0;32m---> 38\u001b[0;31m     \u001b[0mB\u001b[0m \u001b[0;34m=\u001b[0m \u001b[0msum\u001b[0m\u001b[0;34m(\u001b[0m \u001b[0mxi\u001b[0m \u001b[0;34m*\u001b[0m \u001b[0;34m(\u001b[0m\u001b[0mN\u001b[0m\u001b[0;34m-\u001b[0m\u001b[0mi\u001b[0m\u001b[0;34m)\u001b[0m \u001b[0;32mfor\u001b[0m \u001b[0mi\u001b[0m\u001b[0;34m,\u001b[0m\u001b[0mxi\u001b[0m \u001b[0;32min\u001b[0m \u001b[0menumerate\u001b[0m\u001b[0;34m(\u001b[0m\u001b[0mx\u001b[0m\u001b[0;34m)\u001b[0m \u001b[0;34m)\u001b[0m \u001b[0;34m/\u001b[0m \u001b[0;34m(\u001b[0m\u001b[0mN\u001b[0m\u001b[0;34m*\u001b[0m\u001b[0msum\u001b[0m\u001b[0;34m(\u001b[0m\u001b[0mx\u001b[0m\u001b[0;34m)\u001b[0m\u001b[0;34m)\u001b[0m\u001b[0;34m\u001b[0m\u001b[0m\n\u001b[0m\u001b[1;32m     39\u001b[0m     \u001b[0;32mreturn\u001b[0m \u001b[0;34m(\u001b[0m\u001b[0;36m1\u001b[0m \u001b[0;34m+\u001b[0m \u001b[0;34m(\u001b[0m\u001b[0;36m1\u001b[0m\u001b[0;34m/\u001b[0m\u001b[0mN\u001b[0m\u001b[0;34m)\u001b[0m \u001b[0;34m-\u001b[0m \u001b[0;36m2\u001b[0m\u001b[0;34m*\u001b[0m\u001b[0mB\u001b[0m\u001b[0;34m)\u001b[0m\u001b[0;34m\u001b[0m\u001b[0m\n\u001b[1;32m     40\u001b[0m \u001b[0;34m\u001b[0m\u001b[0m\n",
      "\u001b[0;31mZeroDivisionError\u001b[0m: division by zero"
     ]
    }
   ],
   "source": [
    "# model.py\n",
    "import random\n",
    "from mesa import Agent, Model\n",
    "from mesa.time import RandomActivation\n",
    "from mesa.space import SingleGrid\n",
    "from mesa.datacollection import DataCollector\n",
    "\n",
    "class MoneyAgent(Agent):\n",
    "    \"\"\"An agent with fixed initial wealth.\"\"\"\n",
    "    def __init__(self, unique_id, model):\n",
    "        super().__init__(unique_id, model)\n",
    "        self.wealth = 1\n",
    "    \n",
    "    def move(self):\n",
    "        possible_steps = self.model.grid.get_neighborhood(\n",
    "            self.pos,\n",
    "            moore=True,\n",
    "            include_center=False)\n",
    "        new_position = random.choice(possible_steps)\n",
    "        self.model.grid.move_agent(self, new_position)\n",
    "             \n",
    "    def give_money(self):\n",
    "        cellmates = self.model.grid.get_cell_list_contents([self.pos])\n",
    "        if len(cellmates) > 1:\n",
    "            other = random.choice(cellmates)\n",
    "            other.wealth += 1\n",
    "            self.wealth -= 1     \n",
    "        \n",
    "    def step(self):\n",
    "        self.move()\n",
    "        if self.wealth > 0:\n",
    "            self.give_money()\n",
    "    \n",
    "def compute_gini(model):\n",
    "    agent_wealths = [agent.wealth for agent in model.schedule.agents]\n",
    "    x = sorted(agent_wealths)\n",
    "    N = model.num_agents\n",
    "    B = sum( xi * (N-i) for i,xi in enumerate(x) ) / (N*sum(x))\n",
    "    return (1 + (1/N) - 2*B)\n",
    "        \n",
    "class MoneyModel(Model):\n",
    "    \"\"\"A model with some number of agents.\"\"\"\n",
    "    def __init__(self, N, width, height):\n",
    "        self.num_agents = N\n",
    "        self.grid = SingleGrid(width, height, True)\n",
    "        self.schedule = RandomActivation(self)\n",
    "        \n",
    "        # Create agents\n",
    "        for i in range(self.num_agents):\n",
    "            pos = self.grid.find_empty()\n",
    "            a = MoneyAgent(i, self)\n",
    "            print(pos)\n",
    "            self.grid.place_agent(a, pos)\n",
    "            #self.schedule.add(a)\n",
    "            \n",
    "#             for i in range(self.number_of_bug):\n",
    "#             pos = self.grid.find_empty()\n",
    "#             bug = Bug(i, self)\n",
    "#             bug.strategy = self.strategy\n",
    "#             self.grid.place_agent(bug, pos)\n",
    "#             self.schedule.add(bug)\n",
    "            \n",
    "#             # Add the agent to a random grid cell\n",
    "#             x = random.randrange(self.grid.width)\n",
    "#             y = random.randrange(self.grid.height)\n",
    "#             self.grid.place_agent(a,(x,y))\n",
    "            \n",
    "        self.datacollector = DataCollector(\n",
    "            model_reporters={\"Gini\": compute_gini},\n",
    "            agent_reporters={\"Wealth\": lambda a: a.wealth})\n",
    "        \n",
    "    def step (self):\n",
    "        \"\"\"Advance the model by one step.\"\"\"\n",
    "        self.datacollector.collect(self)\n",
    "        self.schedule.step()\n",
    "\n",
    "# run.py\n",
    "# all_wealth = []\n",
    "# for j in range(100):\n",
    "    # Run the model\n",
    "model = MoneyModel(50, 10, 10)\n",
    "for i in range(100):\n",
    "    model.step()\n",
    "    \n",
    "#     # Store the results\n",
    "#     for agent in model.schedule.agents:\n",
    "#         all_wealth.append(agent.wealth)\n",
    "    \n",
    "%matplotlib inline\n",
    "import matplotlib.pyplot as plt\n",
    "import numpy as np\n",
    "\n",
    "agent_counts = np.zeros((model.grid.width, model.grid.height))\n",
    "for cell in model.grid.coord_iter():\n",
    "    cell_content, x, y = cell\n",
    "    agent_count = len(cell_content)\n",
    "    agent_counts[x][y] = agent_count\n",
    "plt.imshow(agent_counts, interpolation='nearest')\n",
    "plt.colorbar()\n",
    "\n",
    "plt.show()\n",
    "\n",
    "gini = model.datacollector.get_model_vars_dataframe()\n",
    "gini.plot()\n",
    "plt.show()\n",
    "\n",
    "agent_wealth = model.datacollector.get_agent_vars_dataframe()\n",
    "agent_wealth.head()\n",
    "\n",
    "end_wealth = agent_wealth.xs(99, level=\"Step\")[\"Wealth\"]\n",
    "end_wealth.hist(bins=range(agent_wealth.Wealth.max()+1))\n",
    "plt.show()\n",
    "\n",
    "one_agent_wealth = agent_wealth.xs(14, level=\"AgentID\")\n",
    "one_agent_wealth.Wealth.plot()\n",
    "plt.show()\n",
    "# agent_wealth = [a.wealth for a in model.schedule.agents]\n",
    "# plt.hist(all_wealth, bins=range(max(all_wealth)+1))\n",
    "# plt.show()"
   ]
  },
  {
   "cell_type": "code",
   "execution_count": 239,
   "metadata": {},
   "outputs": [
    {
     "data": {
      "image/png": "[encoded data removed]",
      "text/plain": [
       "<matplotlib.figure.Figure at 0x61b8aa0f0>"
      ]
     },
     "metadata": {},
     "output_type": "display_data"
    },
    {
     "data": {
      "image/png": "[encoded data removed]",
      "text/plain": [
       "<matplotlib.figure.Figure at 0x61c2ff860>"
      ]
     },
     "metadata": {},
     "output_type": "display_data"
    },
    {
     "data": {
      "image/png": "[encoded data removed]",
      "text/plain": [
       "<matplotlib.figure.Figure at 0x61b0f9710>"
      ]
     },
     "metadata": {},
     "output_type": "display_data"
    },
    {
     "data": {
      "image/png": "[encoded data removed]",
      "text/plain": [
       "<matplotlib.figure.Figure at 0x61b103e80>"
      ]
     },
     "metadata": {},
     "output_type": "display_data"
    },
    {
     "data": {
      "image/png": "[encoded data removed]",
      "text/plain": [
       "<matplotlib.figure.Figure at 0x61ba996d8>"
      ]
     },
     "metadata": {},
     "output_type": "display_data"
    },
    {
     "data": {
      "image/png": "[encoded data removed]",
      "text/plain": [
       "<matplotlib.figure.Figure at 0x61c818080>"
      ]
     },
     "metadata": {},
     "output_type": "display_data"
    },
    {
     "data": {
      "image/png": "[encoded data removed]",
      "text/plain": [
       "<matplotlib.figure.Figure at 0x618974940>"
      ]
     },
     "metadata": {},
     "output_type": "display_data"
    },
    {
     "data": {
      "image/png": "[encoded data removed]",
      "text/plain": [
       "<matplotlib.figure.Figure at 0x113534978>"
      ]
     },
     "metadata": {},
     "output_type": "display_data"
    },
    {
     "data": {
      "image/png": "[encoded data removed]",
      "text/plain": [
       "<matplotlib.figure.Figure at 0x61ce1d320>"
      ]
     },
     "metadata": {},
     "output_type": "display_data"
    },
    {
     "data": {
      "image/png": "[encoded data removed]",
      "text/plain": [
       "<matplotlib.figure.Figure at 0x61bc9e160>"
      ]
     },
     "metadata": {},
     "output_type": "display_data"
    },
    {
     "data": {
      "text/plain": [
       "<matplotlib.axes._subplots.AxesSubplot at 0x61cff3d68>"
      ]
     },
     "execution_count": 239,
     "metadata": {},
     "output_type": "execute_result"
    },
    {
     "data": {
      "image/png": "[encoded data removed]",
      "text/plain": [
       "<matplotlib.figure.Figure at 0x61cfa6940>"
      ]
     },
     "metadata": {},
     "output_type": "display_data"
    }
   ],
   "source": [
    "# Now for EV's\n",
    "%matplotlib inline\n",
    "import matplotlib.pyplot as plt\n",
    "import numpy as np\n",
    "import random\n",
    "from mesa import Agent, Model\n",
    "from mesa.time import RandomActivation\n",
    "from mesa.space import MultiGrid\n",
    "from mesa.space import ContinuousSpace\n",
    "from mesa.datacollection import DataCollector\n",
    "from scipy.spatial import distance\n",
    "\n",
    "\n",
    "iterations = 10\n",
    "max_sockets = 2\n",
    "n_poles = 10\n",
    "n_EVs = 10\n",
    "\n",
    "# Create the model\n",
    "class EV_Model(Model):\n",
    "    def __init__(self, N, width, height, n_poles):\n",
    "        self.num_agents = N\n",
    "        self.grid = MultiGrid(width, height, False) #toroidal (for now)\n",
    "        self.schedule = RandomActivation(self)\n",
    "        vision = 4\n",
    "        \n",
    "        # Create Charge Pole agents\n",
    "        for i in range(n_poles):\n",
    "            x = random.randrange(self.grid.width)\n",
    "            y = random.randrange(self.grid.height)\n",
    "            charge_pole = Charge_pole(i, (x,y), self, max_sockets)\n",
    "            self.grid.place_agent(charge_pole, (x, y))\n",
    "        \n",
    "        # Create EV agents\n",
    "        for i in range(self.num_agents):\n",
    "            EV = EV_Agent(i, self, vision)\n",
    "            self.schedule.add(EV)\n",
    "            # Add the agent to a random grid cell\n",
    "            x = random.randrange(self.grid.width)\n",
    "            y = random.randrange(self.grid.height)\n",
    "            self.grid.place_agent(EV, (x, y))\n",
    "        \n",
    "            \n",
    "        self.datacollector = DataCollector(\n",
    "            agent_reporters={\"Battery\": lambda EV: EV.battery})\n",
    "        #self.datacollector = DataCollector(data)\n",
    "            \n",
    "    def step(self):\n",
    "        self.schedule.step()\n",
    "        self.datacollector.collect(self)\n",
    "\n",
    "        \n",
    "# Create charging pole agents\n",
    "class Charge_pole(Agent):\n",
    "    def __init__(self, unique_id, pos, model, max_sockets):\n",
    "        super().__init__(pos, model)\n",
    "        self.amount = max_sockets\n",
    "        self.max_sockets = max_sockets\n",
    "        self.pos = pos\n",
    "        \n",
    "\n",
    "    def step(self):\n",
    "        self.amount = min([self.max_sockets, self.amount + 1])\n",
    "\n",
    "# Create the Electric Vehicles agents\n",
    "class EV_Agent(Agent):\n",
    "    \"\"\" An agent with fixed initial battery.\"\"\"\n",
    "    def __init__(self, unique_id, model, vision):\n",
    "        super().__init__(unique_id, model)\n",
    "        self.vision = vision\n",
    "        self.battery = 500\n",
    "    \n",
    "    # can randomly move in the neighbourhood with radius = vision\n",
    "    def move(self):\n",
    "        possible_steps = self.model.grid.get_neighborhood(\n",
    "            self.pos,\n",
    "            radius = self.vision,\n",
    "            moore=True,\n",
    "            include_center=False)\n",
    "        \n",
    "        # if agent can find CP it will go to that position\n",
    "        if self.find_CP(self.pos):\n",
    "            new_position = self.find_CP(self.pos)\n",
    "        else:\n",
    "            new_position = random.choice(possible_steps)\n",
    "        self.use_battery(new_position)\n",
    "        self.model.grid.move_agent(self, new_position)\n",
    "    \n",
    "    def find_CP(self, pos):\n",
    "        neig = self.model.grid.get_neighbors(\n",
    "            self.pos,\n",
    "            radius = self.vision, \n",
    "            moore = True)\n",
    "        possible_charge_poles =[]\n",
    "        \n",
    "        #check if there is an agent in neighborhood, and what type of agents\n",
    "        if neig:\n",
    "            for agent in neig:\n",
    "                if isinstance(agent, Charge_pole):\n",
    "                    possible_charge_poles.append(agent)\n",
    "                    \n",
    "        # randomly select from the CP in the neighborhood -> not perfect yet\n",
    "            if possible_charge_poles:\n",
    "                chosen_charge_pole = random.choice(possible_charge_poles)\n",
    "                return chosen_charge_pole.pos\n",
    "                \n",
    "            \n",
    "    # function to decrease battery with the distance\n",
    "    def use_battery(self, new_position):\n",
    "        dist = (distance.euclidean(self.pos, new_position))\n",
    "        cost = dist\n",
    "        self.battery -= cost\n",
    "    \n",
    "    def step(self):\n",
    "        self.move()\n",
    "        if self.battery > 0:\n",
    "            self.move()\n",
    "            #print(self.unique_id, self.battery)\n",
    "        \n",
    "width = 20\n",
    "height = 20\n",
    "# Construct EV model\n",
    "model = EV_Model(n_EVs, width, height, n_poles)\n",
    "\n",
    "# Let the model iterate\n",
    "for i in range(iterations):\n",
    "    #model.step()\n",
    "\n",
    "    \n",
    "\n",
    "    CP_counts = np.zeros((model.grid.width, model.grid.height))\n",
    "    CP_counts = list([])\n",
    "    EV_counts = np.zeros((model.grid.width, model.grid.height))\n",
    "    for cell in model.grid.coord_iter():\n",
    "        cell_content, x, y = cell\n",
    "\n",
    "        if list(cell_content):\n",
    "            for occupant in list(cell_content):\n",
    "                if isinstance(occupant ,EV_Agent):\n",
    "                    EV_count = len(cell_content)\n",
    "\n",
    "                    # to get a good plot with imshow x an y are reversed: y, x\n",
    "                    EV_counts[y,x] = EV_count\n",
    "                    #print(\"EV \", x,y)\n",
    "                elif isinstance(occupant,Charge_pole):\n",
    "                    CP_count = len(cell_content)\n",
    "                    #print(\"CP \" , x,y)\n",
    "                    #CP_counts[x][y] = CP_count\n",
    "                    CP_counts.append((x,y))\n",
    "\n",
    "\n",
    "    extent = 0, width, 0, height\n",
    "    fig = plt.figure(frameon=False)\n",
    "\n",
    "\n",
    "    im1 = plt.imshow(EV_counts, interpolation = 'nearest', cmap = 'Reds', \n",
    "                     vmin = 0, vmax = int(n_EVs/2),\n",
    "                     extent = extent, alpha = 0.9, origin = 'lower')\n",
    "    plt.colorbar(ticks = (np.array([0,5,10,15,20,25])/100*n_EVs*2))\n",
    "\n",
    "    # Plot the Charge Poles\n",
    "    CP_x, CP_y =  map(list, zip(*CP_counts))\n",
    "\n",
    "    #make them in the middle of the cell\n",
    "    CP_x = np.array(CP_x) + 0.5\n",
    "    CP_y = np.array(CP_y) + 0.5\n",
    "\n",
    "    im2 = plt.scatter(CP_x, CP_y, color = 'blue', s = 3)\n",
    "    #im2 = plt.imshow(CP_counts, cmap = 'binary', extent = extent, alpha = 0.2)\n",
    "    plt.show()\n",
    "    \n",
    "    model.step()\n",
    "\n",
    "\n",
    "agent_battery = model.datacollector.get_agent_vars_dataframe()\n",
    "end_battery = agent_battery.xs(iterations-1, level=\"Step\")[\"Battery\"]\n",
    "end_battery.hist(bins=10)\n",
    "       \n",
    "   "
   ]
  },
  {
   "cell_type": "code",
   "execution_count": 220,
   "metadata": {},
   "outputs": [
    {
     "name": "stdout",
     "output_type": "stream",
     "text": [
      "Interface starting at http://127.0.0.1:8522\n",
      "Socket opened!\n",
      "{\"type\":\"get_params\"}\n",
      "{\"type\":\"reset\"}\n",
      "{\"type\":\"get_step\",\"step\":1}\n"
     ]
    }
   ],
   "source": [
    "# server.py\n",
    "from mesa.visualization.modules import CanvasGrid\n",
    "from mesa.visualization.ModularVisualization import ModularServer\n",
    "\n",
    "# server.py\n",
    "def agent_portrayal(agent):\n",
    "    portrayal = {\"Shape\": \"circle\",\n",
    "                 \"Filled\": \"true\",\n",
    "                 \"Layer\": 0,\n",
    "                 \"r\": 0.5}\n",
    "    if type(agent) is Charge_pole:\n",
    "        portrayal[\"Color\"] = \"cornflowerblue\"\n",
    "    elif type(agent) is EV_Agent:\n",
    "        portrayal[\"Color\"] = \"red\"\n",
    "    \n",
    "    return portrayal\n",
    "\n",
    "grid = CanvasGrid(agent_portrayal, 20, 20, 500, 500)\n",
    "\n",
    "server = ModularServer(EV_Model,\n",
    "                       [grid],\n",
    "                       \"EV Model\",\n",
    "                       {\"N\": 100, \"width\": 20, \"height\": 20, \"n_poles\": 10})\n",
    "\n",
    "\n",
    "server.port = 8522 # The default\n",
    "server.launch()"
   ]
  },
  {
   "cell_type": "code",
   "execution_count": null,
   "metadata": {
    "collapsed": true
   },
   "outputs": [],
   "source": []
  }
 ],
 "metadata": {
  "kernelspec": {
   "display_name": "Python 3",
   "language": "python",
   "name": "python3"
  },
  "language_info": {
   "codemirror_mode": {
    "name": "ipython",
    "version": 3
   },
   "file_extension": ".py",
   "mimetype": "text/x-python",
   "name": "python",
   "nbconvert_exporter": "python",
   "pygments_lexer": "ipython3",
   "version": "3.6.1"
  }
 },
 "nbformat": 4,
 "nbformat_minor": 2
}
